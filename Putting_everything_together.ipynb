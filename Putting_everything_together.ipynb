{
 "cells": [
  {
   "cell_type": "markdown",
   "metadata": {},
   "source": [
    "# Putting everything together"
   ]
  },
  {
   "cell_type": "markdown",
   "metadata": {},
   "source": [
    "# Build our deployment package\n",
    "\n",
    "* We need to start a EC2 instance with AMI (at least 2GB of memory)"
   ]
  },
  {
   "cell_type": "raw",
   "metadata": {
    "collapsed": false
   },
   "source": [
    "# Connect to your instance\n",
    "\n",
    "sudo yum -y update\n",
    "sudo yum -y install gcc-c++ python27-devel atlas-sse3-devel lapack-devel\n",
    "\n",
    "sudo /usr/local/bin/pip install -U pip\n",
    "sudo /usr/local/bin/pip install tweepy numpy scipy scikit-learn\n",
    "\n",
    "cd /usr/local/lib/python2.7/site-packages/\n",
    "zip -r9 ~/MyLambdaPackage.zip *\n",
    "cd /usr/local/lib64/python2.7/site-packages/\n",
    "zip -r9 ~/MyLambdaPackage.zip *\n",
    "\n",
    "# You can download your package now an put in on S3\n",
    "# And then strip everything....."
   ]
  },
  {
   "cell_type": "raw",
   "metadata": {
    "collapsed": false
   },
   "source": [
    "https://github.com/ryansb/sklearn-build-lambda"
   ]
  },
  {
   "cell_type": "markdown",
   "metadata": {},
   "source": [
    "# 1) Create the predict.py \n",
    "\n",
    "This function will receive a stream from S3, it will load the data and predict the sentiment and then save the json file in s3."
   ]
  },
  {
   "cell_type": "markdown",
   "metadata": {},
   "source": [
    "# 2) Create the reader.py\n",
    "\n",
    "This function will be called every 1 min from AWS CloudWatch Events and it will save a list of 50 tweets in S3"
   ]
  },
  {
   "cell_type": "markdown",
   "metadata": {},
   "source": [
    "# 3) Create the buckets\n",
    "You will need 2 buckets:\n",
    "    * twitter.reader\n",
    "    * twitter.sentiment\n",
    "    * twitter.deploypack"
   ]
  },
  {
   "cell_type": "markdown",
   "metadata": {},
   "source": [
    "# 4) Create the deployment package\n",
    "\n",
    "* cp  deployment_pack.zip  deployment_pack_with_code.zip\n",
    "\n",
    "* zip -9r deployment_pack_with_code.zip reader.py predict.py models/clf.pkl models/vocabulary.pkl"
   ]
  },
  {
   "cell_type": "markdown",
   "metadata": {},
   "source": [
    "# 5) Upload everything\n",
    "* load the deploypack in twitter.deploypack\n",
    "* create a lambda function (call it \"predict\") with S3 as a trigger, put twitter.reader as a bucket to control\n",
    "* create a lambda function (call it \"reader\") with CloudWatch\n",
    "* for both functions set 256MB as memory and 60 secs as timeout\n",
    "* Watch your twitter.sentiment !"
   ]
  },
  {
   "cell_type": "markdown",
   "metadata": {},
   "source": [
    "# Error using pickle with the vectorizer"
   ]
  },
  {
   "cell_type": "markdown",
   "metadata": {},
   "source": [
    "Probably related to Pickle and sparse matrix"
   ]
  },
  {
   "cell_type": "markdown",
   "metadata": {},
   "source": [
    "format not found: AttributeError\n",
    "Traceback (most recent call last):\n",
    "File \"/var/task/predict.py\", line 32, in handler\n",
    "tweets_vectors = vectorizer.transform([\"Hillary doesn't got what it takes...Trump neither but Hillary my God! https://t.co/7OOeEO4Epi\"])\n",
    "File \"/var/task/sklearn/feature_extraction/text.py\", line 1334, in transform\n",
    "return self._tfidf.transform(X, copy=False)\n",
    "File \"/var/task/sklearn/feature_extraction/text.py\", line 1037, in transform\n",
    "X = X * self._idf_diag\n",
    "File \"/var/task/scipy/sparse/base.py\", line 319, in __mul__\n",
    "return self._mul_sparse_matrix(other)\n",
    "File \"/var/task/scipy/sparse/compressed.py\", line 478, in _mul_sparse_matrix\n",
    "other = self.__class__(other) # convert to this format\n",
    "File \"/var/task/scipy/sparse/compressed.py\", line 28, in __init__\n",
    "if arg1.format == self.format and copy:\n",
    "File \"/var/task/scipy/sparse/base.py\", line 525, in __getattr__\n",
    "raise AttributeError(attr + \" not found\")\n",
    "AttributeError: format not found"
   ]
  }
 ],
 "metadata": {
  "kernelspec": {
   "display_name": "Python 2",
   "language": "python",
   "name": "python2"
  },
  "language_info": {
   "codemirror_mode": {
    "name": "ipython",
    "version": 2
   },
   "file_extension": ".py",
   "mimetype": "text/x-python",
   "name": "python",
   "nbconvert_exporter": "python",
   "pygments_lexer": "ipython2",
   "version": "2.7.12"
  }
 },
 "nbformat": 4,
 "nbformat_minor": 1
}
