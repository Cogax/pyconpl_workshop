{
 "cells": [
  {
   "cell_type": "code",
   "execution_count": 2,
   "metadata": {
    "collapsed": false
   },
   "outputs": [],
   "source": [
    "from IPython.display import Image"
   ]
  },
  {
   "cell_type": "markdown",
   "metadata": {},
   "source": [
    "# From 0 to Lambda\n",
    "# Machine Learning with Cloud system"
   ]
  },
  {
   "cell_type": "markdown",
   "metadata": {},
   "source": [
    "# Hello There !\n",
    "\n",
    "## My Name is Christian"
   ]
  },
  {
   "cell_type": "markdown",
   "metadata": {},
   "source": [
    "# Requirements !!!\n",
    "\n",
    "* You must have installed Docker on your computer\n",
    "* You must have valid aws user account\n",
    "* You must have AWS cli installed\n",
    "* You must have a computer"
   ]
  },
  {
   "cell_type": "markdown",
   "metadata": {},
   "source": [
    "Today we are going to have a workshop about:\n",
    "\n",
    "* Some stuff about Machine Learning\n",
    "* Amazon Web Service Lambda\n",
    "* Deploy Machine Learning Model in the Cloud"
   ]
  },
  {
   "cell_type": "markdown",
   "metadata": {},
   "source": [
    "# First Part: Amazon Lambda\n",
    "\n",
    "* What is AWS Lambda ?\n",
    "* Pros of AWS Lambda\n",
    "* Cons of AWS Lambda\n",
    "* Prices\n",
    "* Deployment packages\n",
    "* Other serverless system\n",
    "* Create our first Lambda function\n",
    "* Deploy it\n",
    "* Goals of this lectureN"
   ]
  },
  {
   "cell_type": "markdown",
   "metadata": {},
   "source": [
    "# Second Part: NLP with Python\n",
    "\n",
    "* What is NLP ?\n",
    "* NLP with Python\n",
    "* Supervised Sentiment Analysis\n",
    "* Load our data\n",
    "* Vectorize your test\n",
    "* Learn a model\n",
    "* Predict\n",
    "* Score\n",
    "* Twitter\n",
    "* Predict sentiment"
   ]
  },
  {
   "cell_type": "markdown",
   "metadata": {},
   "source": [
    "# Third Part: Putting everything together\n",
    "\n",
    "* Create an AWS Lambda function to download tweets and save them in S3\n",
    "* Create an AWS Lambda function to load the tweets, load the model and save the result in S3"
   ]
  },
  {
   "cell_type": "code",
   "execution_count": null,
   "metadata": {
    "collapsed": true
   },
   "outputs": [],
   "source": []
  }
 ],
 "metadata": {
  "celltoolbar": "Slideshow",
  "kernelspec": {
   "display_name": "Python 3",
   "language": "python",
   "name": "python3"
  },
  "language_info": {
   "codemirror_mode": {
    "name": "ipython",
    "version": 3
   },
   "file_extension": ".py",
   "mimetype": "text/x-python",
   "name": "python",
   "nbconvert_exporter": "python",
   "pygments_lexer": "ipython3",
   "version": "3.5.2"
  }
 },
 "nbformat": 4,
 "nbformat_minor": 1
}
